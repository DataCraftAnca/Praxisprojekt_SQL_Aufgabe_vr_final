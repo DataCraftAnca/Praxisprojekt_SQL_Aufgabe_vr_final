{
 "cells": [
  {
   "cell_type": "code",
   "execution_count": 43,
   "outputs": [
    {
     "name": "stdout",
     "output_type": "stream",
     "text": [
      "   bestellid  kundenid  produktid  menge bestelldatum\n",
      "0          1        21         28      6   2022-09-30\n",
      "1          2        14         18      7   2023-02-06\n",
      "2          3         9         41      4   2022-12-16\n",
      "3          4        13         14      8   2022-07-31\n",
      "4          5         9         27      7   2023-02-05\n"
     ]
    },
    {
     "name": "stderr",
     "output_type": "stream",
     "text": [
      "C:\\Users\\User\\AppData\\Local\\Temp\\ipykernel_18928\\846266022.py:15: UserWarning: pandas only supports SQLAlchemy connectable (engine/connection) or database string URI or sqlite3 DBAPI2 connection. Other DBAPI2 objects are not tested. Please consider using SQLAlchemy.\n",
      "  df = pd.read_sql(query, conn)\n"
     ]
    }
   ],
   "source": [
    "import psycopg2\n",
    "import pandas as pd\n",
    "\n",
    "# Verbindung zur PostgreSQL-Datenbank herstellen\n",
    "conn = psycopg2.connect(\n",
    "    host=\"localhost\",\n",
    "    port=\"5432\",\n",
    "    database=\"Praxisprojekt_SQL\",\n",
    "    user=\"postgres\",\n",
    "    password=\"****\"\n",
    ")\n",
    "\n",
    "# SQL-Abfrage ausführen und Daten in einen Pandas-DataFrame laden\n",
    "query = \"SELECT * FROM bestellung\"\n",
    "df = pd.read_sql(query, conn)\n",
    "\n",
    "# Verbindung zur Datenbank schließen\n",
    "conn.close()\n",
    "\n",
    "# Den DataFrame anzeigen\n",
    "print(df.head())\n"
   ],
   "metadata": {
    "collapsed": false
   }
  },
  {
   "cell_type": "code",
   "execution_count": 72,
   "outputs": [
    {
     "name": "stdout",
     "output_type": "stream",
     "text": [
      "Kunde mit höchstem Gesamtbetrag:\n",
      "   kundenid       name  gesamtbetrag\n",
      "0         9  Edy Delea        7841.0\n",
      "\n",
      "Zeitraum der Bestellungen:\n",
      "Von: 2020-10-21\n",
      "Bis: 2023-06-04\n",
      "\n",
      "Am häufigsten eingekaufter Wochentag:\n",
      "Donnerstag\n"
     ]
    },
    {
     "name": "stderr",
     "output_type": "stream",
     "text": [
      "C:\\Users\\User\\AppData\\Local\\Temp\\ipykernel_18928\\765845204.py:23: UserWarning: pandas only supports SQLAlchemy connectable (engine/connection) or database string URI or sqlite3 DBAPI2 connection. Other DBAPI2 objects are not tested. Please consider using SQLAlchemy.\n",
      "  df_hoechste_zahlung = pd.read_sql(abfrage_hoechste_zahlung, verbindung)\n",
      "C:\\Users\\User\\AppData\\Local\\Temp\\ipykernel_18928\\765845204.py:30: UserWarning: pandas only supports SQLAlchemy connectable (engine/connection) or database string URI or sqlite3 DBAPI2 connection. Other DBAPI2 objects are not tested. Please consider using SQLAlchemy.\n",
      "  df_bestellungszeitraum = pd.read_sql(abfrage_bestellungszeitraum, verbindung)\n",
      "C:\\Users\\User\\AppData\\Local\\Temp\\ipykernel_18928\\765845204.py:40: UserWarning: pandas only supports SQLAlchemy connectable (engine/connection) or database string URI or sqlite3 DBAPI2 connection. Other DBAPI2 objects are not tested. Please consider using SQLAlchemy.\n",
      "  df_haeufigster_wochentag = pd.read_sql(abfrage_haeufigster_wochentag, verbindung)\n"
     ]
    }
   ],
   "source": [
    "import psycopg2\n",
    "import pandas as pd\n",
    "\n",
    "# Verbindung zur PostgreSQL-Datenbank herstellen\n",
    "verbindung = psycopg2.connect(\n",
    "    host=\"localhost\",\n",
    "    port=\"5432\",\n",
    "    database=\"Praxisprojekt_SQL\",\n",
    "    user=\"postgres\",\n",
    "    password=\"****\"\n",
    ")\n",
    "\n",
    "# Den Kunden abrufen, der am meisten bezahlt hat\n",
    "abfrage_hoechste_zahlung = \"\"\"\n",
    "SELECT b.KundenID, k.Name, SUM(b.Menge * p.Preis) AS Gesamtbetrag\n",
    "FROM bestellung b\n",
    "JOIN kunden k ON b.KundenID = k.KundenID\n",
    "JOIN produkt p ON b.ProduktID = p.ProduktID\n",
    "GROUP BY b.KundenID, k.Name\n",
    "ORDER BY Gesamtbetrag DESC\n",
    "LIMIT 1\n",
    "\"\"\"\n",
    "df_hoechste_zahlung = pd.read_sql(abfrage_hoechste_zahlung, verbindung)\n",
    "\n",
    "# Den Zeitraum der Bestellungen abrufen\n",
    "abfrage_bestellungszeitraum = \"\"\"\n",
    "SELECT MIN(Bestelldatum) AS MinDatum, MAX(Bestelldatum) AS MaxDatum\n",
    "FROM bestellung\n",
    "\"\"\"\n",
    "df_bestellungszeitraum = pd.read_sql(abfrage_bestellungszeitraum, verbindung)\n",
    "\n",
    "# Den Wochentag abrufen, an dem am häufigsten eingekauft wird\n",
    "abfrage_haeufigster_wochentag = \"\"\"\n",
    "SELECT EXTRACT(DOW FROM Bestelldatum) AS Wochentag, COUNT(*) AS Anzahl\n",
    "FROM bestellung\n",
    "GROUP BY Wochentag\n",
    "ORDER BY Anzahl DESC\n",
    "LIMIT 1\n",
    "\"\"\"\n",
    "df_haeufigster_wochentag = pd.read_sql(abfrage_haeufigster_wochentag, verbindung)\n",
    "\n",
    "verbindung.close()\n",
    "\n",
    "print(\"Kunde mit höchstem Gesamtbetrag:\")\n",
    "print(df_hoechste_zahlung)\n",
    "\n",
    "print(\"\\nZeitraum der Bestellungen:\")\n",
    "print(\"Von:\", df_bestellungszeitraum['mindatum'].iloc[0])\n",
    "print(\"Bis:\", df_bestellungszeitraum['maxdatum'].iloc[0])\n",
    "\n",
    "print(\"\\nAm häufigsten eingekaufter Wochentag:\")\n",
    "wochentage = ['Montag', 'Dienstag', 'Mittwoch', 'Donnerstag', 'Freitag', 'Samstag', 'Sonntag']\n",
    "haeufigster_wochentag = int(df_haeufigster_wochentag['wochentag'].iloc[0])\n",
    "print(wochentage[haeufigster_wochentag])"
   ],
   "metadata": {
    "collapsed": false
   }
  }
 ],
 "metadata": {
  "kernelspec": {
   "display_name": "Python 3",
   "language": "python",
   "name": "python3"
  },
  "language_info": {
   "codemirror_mode": {
    "name": "ipython",
    "version": 2
   },
   "file_extension": ".py",
   "mimetype": "text/x-python",
   "name": "python",
   "nbconvert_exporter": "python",
   "pygments_lexer": "ipython2",
   "version": "2.7.6"
  }
 },
 "nbformat": 4,
 "nbformat_minor": 0
}
